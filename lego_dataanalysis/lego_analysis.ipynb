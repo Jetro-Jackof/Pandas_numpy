{
 "cells": [
  {
   "cell_type": "code",
   "execution_count": 2,
   "metadata": {},
   "outputs": [],
   "source": [
    "import pandas as pd\n",
    "df = pd.read_csv('https://raw.githubusercontent.com/KeithGalli/lego-analysis/master/datasets/lego_sets.csv')\n",
    "theme = pd.read_csv('https://raw.githubusercontent.com/KeithGalli/lego-analysis/master/datasets/parent_themes.csv')"
   ]
  },
  {
   "cell_type": "code",
   "execution_count": 3,
   "metadata": {},
   "outputs": [
    {
     "data": {
      "text/html": [
       "<div>\n",
       "<style scoped>\n",
       "    .dataframe tbody tr th:only-of-type {\n",
       "        vertical-align: middle;\n",
       "    }\n",
       "\n",
       "    .dataframe tbody tr th {\n",
       "        vertical-align: top;\n",
       "    }\n",
       "\n",
       "    .dataframe thead th {\n",
       "        text-align: right;\n",
       "    }\n",
       "</style>\n",
       "<table border=\"1\" class=\"dataframe\">\n",
       "  <thead>\n",
       "    <tr style=\"text-align: right;\">\n",
       "      <th></th>\n",
       "      <th>set_num</th>\n",
       "      <th>name</th>\n",
       "      <th>year</th>\n",
       "      <th>num_parts</th>\n",
       "      <th>theme_name</th>\n",
       "      <th>parent_theme</th>\n",
       "    </tr>\n",
       "  </thead>\n",
       "  <tbody>\n",
       "    <tr>\n",
       "      <th>0</th>\n",
       "      <td>00-1</td>\n",
       "      <td>Weetabix Castle</td>\n",
       "      <td>1970</td>\n",
       "      <td>471.0</td>\n",
       "      <td>Castle</td>\n",
       "      <td>Legoland</td>\n",
       "    </tr>\n",
       "    <tr>\n",
       "      <th>1</th>\n",
       "      <td>0011-2</td>\n",
       "      <td>Town Mini-Figures</td>\n",
       "      <td>1978</td>\n",
       "      <td>NaN</td>\n",
       "      <td>Supplemental</td>\n",
       "      <td>Town</td>\n",
       "    </tr>\n",
       "    <tr>\n",
       "      <th>2</th>\n",
       "      <td>0011-3</td>\n",
       "      <td>Castle 2 for 1 Bonus Offer</td>\n",
       "      <td>1987</td>\n",
       "      <td>NaN</td>\n",
       "      <td>Lion Knights</td>\n",
       "      <td>Castle</td>\n",
       "    </tr>\n",
       "    <tr>\n",
       "      <th>3</th>\n",
       "      <td>0012-1</td>\n",
       "      <td>Space Mini-Figures</td>\n",
       "      <td>1979</td>\n",
       "      <td>12.0</td>\n",
       "      <td>Supplemental</td>\n",
       "      <td>Space</td>\n",
       "    </tr>\n",
       "    <tr>\n",
       "      <th>4</th>\n",
       "      <td>0013-1</td>\n",
       "      <td>Space Mini-Figures</td>\n",
       "      <td>1979</td>\n",
       "      <td>12.0</td>\n",
       "      <td>Supplemental</td>\n",
       "      <td>Space</td>\n",
       "    </tr>\n",
       "  </tbody>\n",
       "</table>\n",
       "</div>"
      ],
      "text/plain": [
       "  set_num                        name  year  num_parts    theme_name  \\\n",
       "0    00-1             Weetabix Castle  1970      471.0        Castle   \n",
       "1  0011-2           Town Mini-Figures  1978        NaN  Supplemental   \n",
       "2  0011-3  Castle 2 for 1 Bonus Offer  1987        NaN  Lion Knights   \n",
       "3  0012-1          Space Mini-Figures  1979       12.0  Supplemental   \n",
       "4  0013-1          Space Mini-Figures  1979       12.0  Supplemental   \n",
       "\n",
       "  parent_theme  \n",
       "0     Legoland  \n",
       "1         Town  \n",
       "2       Castle  \n",
       "3        Space  \n",
       "4        Space  "
      ]
     },
     "execution_count": 3,
     "metadata": {},
     "output_type": "execute_result"
    }
   ],
   "source": [
    "df.head()"
   ]
  },
  {
   "cell_type": "code",
   "execution_count": 4,
   "metadata": {},
   "outputs": [
    {
     "data": {
      "text/html": [
       "<div>\n",
       "<style scoped>\n",
       "    .dataframe tbody tr th:only-of-type {\n",
       "        vertical-align: middle;\n",
       "    }\n",
       "\n",
       "    .dataframe tbody tr th {\n",
       "        vertical-align: top;\n",
       "    }\n",
       "\n",
       "    .dataframe thead th {\n",
       "        text-align: right;\n",
       "    }\n",
       "</style>\n",
       "<table border=\"1\" class=\"dataframe\">\n",
       "  <thead>\n",
       "    <tr style=\"text-align: right;\">\n",
       "      <th></th>\n",
       "      <th>id</th>\n",
       "      <th>name</th>\n",
       "      <th>is_licensed</th>\n",
       "    </tr>\n",
       "  </thead>\n",
       "  <tbody>\n",
       "    <tr>\n",
       "      <th>0</th>\n",
       "      <td>1</td>\n",
       "      <td>Technic</td>\n",
       "      <td>False</td>\n",
       "    </tr>\n",
       "    <tr>\n",
       "      <th>1</th>\n",
       "      <td>22</td>\n",
       "      <td>Creator</td>\n",
       "      <td>False</td>\n",
       "    </tr>\n",
       "    <tr>\n",
       "      <th>2</th>\n",
       "      <td>50</td>\n",
       "      <td>Town</td>\n",
       "      <td>False</td>\n",
       "    </tr>\n",
       "    <tr>\n",
       "      <th>3</th>\n",
       "      <td>112</td>\n",
       "      <td>Racers</td>\n",
       "      <td>False</td>\n",
       "    </tr>\n",
       "    <tr>\n",
       "      <th>4</th>\n",
       "      <td>126</td>\n",
       "      <td>Space</td>\n",
       "      <td>False</td>\n",
       "    </tr>\n",
       "  </tbody>\n",
       "</table>\n",
       "</div>"
      ],
      "text/plain": [
       "    id     name  is_licensed\n",
       "0    1  Technic        False\n",
       "1   22  Creator        False\n",
       "2   50     Town        False\n",
       "3  112   Racers        False\n",
       "4  126    Space        False"
      ]
     },
     "execution_count": 4,
     "metadata": {},
     "output_type": "execute_result"
    }
   ],
   "source": [
    "theme.head()"
   ]
  },
  {
   "cell_type": "code",
   "execution_count": 5,
   "metadata": {},
   "outputs": [
    {
     "data": {
      "text/html": [
       "<div>\n",
       "<style scoped>\n",
       "    .dataframe tbody tr th:only-of-type {\n",
       "        vertical-align: middle;\n",
       "    }\n",
       "\n",
       "    .dataframe tbody tr th {\n",
       "        vertical-align: top;\n",
       "    }\n",
       "\n",
       "    .dataframe thead th {\n",
       "        text-align: right;\n",
       "    }\n",
       "</style>\n",
       "<table border=\"1\" class=\"dataframe\">\n",
       "  <thead>\n",
       "    <tr style=\"text-align: right;\">\n",
       "      <th></th>\n",
       "      <th>set_num</th>\n",
       "      <th>name_x</th>\n",
       "      <th>year</th>\n",
       "      <th>num_parts</th>\n",
       "      <th>theme_name</th>\n",
       "      <th>parent_theme</th>\n",
       "      <th>id</th>\n",
       "      <th>is_licensed</th>\n",
       "    </tr>\n",
       "  </thead>\n",
       "  <tbody>\n",
       "    <tr>\n",
       "      <th>0</th>\n",
       "      <td>00-1</td>\n",
       "      <td>Weetabix Castle</td>\n",
       "      <td>1970</td>\n",
       "      <td>471.0</td>\n",
       "      <td>Castle</td>\n",
       "      <td>Legoland</td>\n",
       "      <td>411</td>\n",
       "      <td>False</td>\n",
       "    </tr>\n",
       "    <tr>\n",
       "      <th>1</th>\n",
       "      <td>00-2</td>\n",
       "      <td>Weetabix Promotional House 1</td>\n",
       "      <td>1976</td>\n",
       "      <td>NaN</td>\n",
       "      <td>Building</td>\n",
       "      <td>Legoland</td>\n",
       "      <td>411</td>\n",
       "      <td>False</td>\n",
       "    </tr>\n",
       "    <tr>\n",
       "      <th>2</th>\n",
       "      <td>00-3</td>\n",
       "      <td>Weetabix Promotional House 2</td>\n",
       "      <td>1976</td>\n",
       "      <td>NaN</td>\n",
       "      <td>Building</td>\n",
       "      <td>Legoland</td>\n",
       "      <td>411</td>\n",
       "      <td>False</td>\n",
       "    </tr>\n",
       "    <tr>\n",
       "      <th>3</th>\n",
       "      <td>00-4</td>\n",
       "      <td>Weetabix Promotional Windmill</td>\n",
       "      <td>1976</td>\n",
       "      <td>126.0</td>\n",
       "      <td>Building</td>\n",
       "      <td>Legoland</td>\n",
       "      <td>411</td>\n",
       "      <td>False</td>\n",
       "    </tr>\n",
       "    <tr>\n",
       "      <th>4</th>\n",
       "      <td>00-7</td>\n",
       "      <td>Weetabix Promotional Lego Village</td>\n",
       "      <td>1976</td>\n",
       "      <td>NaN</td>\n",
       "      <td>Building</td>\n",
       "      <td>Legoland</td>\n",
       "      <td>411</td>\n",
       "      <td>False</td>\n",
       "    </tr>\n",
       "  </tbody>\n",
       "</table>\n",
       "</div>"
      ],
      "text/plain": [
       "  set_num                             name_x  year  num_parts theme_name  \\\n",
       "0    00-1                    Weetabix Castle  1970      471.0     Castle   \n",
       "1    00-2       Weetabix Promotional House 1  1976        NaN   Building   \n",
       "2    00-3       Weetabix Promotional House 2  1976        NaN   Building   \n",
       "3    00-4      Weetabix Promotional Windmill  1976      126.0   Building   \n",
       "4    00-7  Weetabix Promotional Lego Village  1976        NaN   Building   \n",
       "\n",
       "  parent_theme   id  is_licensed  \n",
       "0     Legoland  411        False  \n",
       "1     Legoland  411        False  \n",
       "2     Legoland  411        False  \n",
       "3     Legoland  411        False  \n",
       "4     Legoland  411        False  "
      ]
     },
     "execution_count": 5,
     "metadata": {},
     "output_type": "execute_result"
    }
   ],
   "source": [
    "#percentage of people licenced\n",
    "merged = df.merge(theme, left_on ='parent_theme', right_on ='name')\n",
    "merged = merged.drop(columns='name_y')\n",
    "merged.head()"
   ]
  },
  {
   "cell_type": "code",
   "execution_count": 13,
   "metadata": {},
   "outputs": [
    {
     "data": {
      "text/plain": [
       "(153, 8)"
      ]
     },
     "execution_count": 13,
     "metadata": {},
     "output_type": "execute_result"
    }
   ],
   "source": [
    "#Filter null values\n",
    "merged[merged['set_num'].isnull()].shape"
   ]
  },
  {
   "cell_type": "code",
   "execution_count": 14,
   "metadata": {},
   "outputs": [
    {
     "data": {
      "text/html": [
       "<div>\n",
       "<style scoped>\n",
       "    .dataframe tbody tr th:only-of-type {\n",
       "        vertical-align: middle;\n",
       "    }\n",
       "\n",
       "    .dataframe tbody tr th {\n",
       "        vertical-align: top;\n",
       "    }\n",
       "\n",
       "    .dataframe thead th {\n",
       "        text-align: right;\n",
       "    }\n",
       "</style>\n",
       "<table border=\"1\" class=\"dataframe\">\n",
       "  <thead>\n",
       "    <tr style=\"text-align: right;\">\n",
       "      <th></th>\n",
       "      <th>set_num</th>\n",
       "      <th>name_x</th>\n",
       "      <th>year</th>\n",
       "      <th>num_parts</th>\n",
       "      <th>theme_name</th>\n",
       "      <th>parent_theme</th>\n",
       "      <th>id</th>\n",
       "      <th>is_licensed</th>\n",
       "    </tr>\n",
       "  </thead>\n",
       "  <tbody>\n",
       "    <tr>\n",
       "      <th>3493</th>\n",
       "      <td>10018-1</td>\n",
       "      <td>Darth Maul</td>\n",
       "      <td>2001</td>\n",
       "      <td>1868.0</td>\n",
       "      <td>Star Wars</td>\n",
       "      <td>Star Wars</td>\n",
       "      <td>158</td>\n",
       "      <td>True</td>\n",
       "    </tr>\n",
       "    <tr>\n",
       "      <th>3494</th>\n",
       "      <td>10019-1</td>\n",
       "      <td>Rebel Blockade Runner - UCS</td>\n",
       "      <td>2001</td>\n",
       "      <td>NaN</td>\n",
       "      <td>Star Wars Episode 4/5/6</td>\n",
       "      <td>Star Wars</td>\n",
       "      <td>158</td>\n",
       "      <td>True</td>\n",
       "    </tr>\n",
       "    <tr>\n",
       "      <th>3495</th>\n",
       "      <td>10026-1</td>\n",
       "      <td>Naboo Starfighter - UCS</td>\n",
       "      <td>2002</td>\n",
       "      <td>NaN</td>\n",
       "      <td>Star Wars Episode 1</td>\n",
       "      <td>Star Wars</td>\n",
       "      <td>158</td>\n",
       "      <td>True</td>\n",
       "    </tr>\n",
       "    <tr>\n",
       "      <th>3496</th>\n",
       "      <td>10030-1</td>\n",
       "      <td>Imperial Star Destroyer - UCS</td>\n",
       "      <td>2002</td>\n",
       "      <td>3115.0</td>\n",
       "      <td>Star Wars Episode 4/5/6</td>\n",
       "      <td>Star Wars</td>\n",
       "      <td>158</td>\n",
       "      <td>True</td>\n",
       "    </tr>\n",
       "    <tr>\n",
       "      <th>3497</th>\n",
       "      <td>10123-1</td>\n",
       "      <td>Cloud City</td>\n",
       "      <td>2003</td>\n",
       "      <td>707.0</td>\n",
       "      <td>Star Wars Episode 4/5/6</td>\n",
       "      <td>Star Wars</td>\n",
       "      <td>158</td>\n",
       "      <td>True</td>\n",
       "    </tr>\n",
       "  </tbody>\n",
       "</table>\n",
       "</div>"
      ],
      "text/plain": [
       "      set_num                         name_x  year  num_parts  \\\n",
       "3493  10018-1                     Darth Maul  2001     1868.0   \n",
       "3494  10019-1    Rebel Blockade Runner - UCS  2001        NaN   \n",
       "3495  10026-1        Naboo Starfighter - UCS  2002        NaN   \n",
       "3496  10030-1  Imperial Star Destroyer - UCS  2002     3115.0   \n",
       "3497  10123-1                     Cloud City  2003      707.0   \n",
       "\n",
       "                   theme_name parent_theme   id  is_licensed  \n",
       "3493                Star Wars    Star Wars  158         True  \n",
       "3494  Star Wars Episode 4/5/6    Star Wars  158         True  \n",
       "3495      Star Wars Episode 1    Star Wars  158         True  \n",
       "3496  Star Wars Episode 4/5/6    Star Wars  158         True  \n",
       "3497  Star Wars Episode 4/5/6    Star Wars  158         True  "
      ]
     },
     "execution_count": 14,
     "metadata": {},
     "output_type": "execute_result"
    }
   ],
   "source": [
    "licensed = merged[merged['is_licensed']]\n",
    "#drop the null values\n",
    "licensed = licensed.dropna(subset = ['set_num'])\n",
    "licensed.head()\n",
    "\n",
    "star_wars = licensed[licensed['parent_theme']=='Star Wars']\n",
    "\n",
    "star_wars.head()"
   ]
  },
  {
   "cell_type": "raw",
   "metadata": {},
   "source": [
    "# count the percentage licenced (star_wars)"
   ]
  },
  {
   "cell_type": "code",
   "execution_count": 15,
   "metadata": {},
   "outputs": [
    {
     "data": {
      "text/plain": [
       "(609, 8)"
      ]
     },
     "execution_count": 15,
     "metadata": {},
     "output_type": "execute_result"
    }
   ],
   "source": [
    "star_wars.shape\n"
   ]
  },
  {
   "cell_type": "code",
   "execution_count": 17,
   "metadata": {},
   "outputs": [
    {
     "name": "stdout",
     "output_type": "stream",
     "text": [
      "51\n"
     ]
    }
   ],
   "source": [
    "the_force = int(star_wars.shape[0]/licensed.shape[0]*100)\n",
    "print(the_force)"
   ]
  },
  {
   "cell_type": "code",
   "execution_count": null,
   "metadata": {},
   "outputs": [],
   "source": []
  }
 ],
 "metadata": {
  "kernelspec": {
   "display_name": "Python 3",
   "language": "python",
   "name": "python3"
  },
  "language_info": {
   "codemirror_mode": {
    "name": "ipython",
    "version": 3
   },
   "file_extension": ".py",
   "mimetype": "text/x-python",
   "name": "python",
   "nbconvert_exporter": "python",
   "pygments_lexer": "ipython3",
   "version": "3.8.3"
  }
 },
 "nbformat": 4,
 "nbformat_minor": 4
}
